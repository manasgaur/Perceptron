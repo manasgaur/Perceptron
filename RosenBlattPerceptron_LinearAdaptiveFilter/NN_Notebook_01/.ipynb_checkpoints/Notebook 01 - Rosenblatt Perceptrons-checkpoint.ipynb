{
 "cells": [
  {
   "cell_type": "markdown",
   "metadata": {},
   "source": [
    "## Notebook 2: Neural Network Basics, Simple Rosenblatt Perceptrons\n",
    "<b>Introduction to Soft Computing, Summer 2016 <br>\n",
    "Wright State University</b>\n",
    "\n",
    "This notebook provides Python 2 code that implements severl versions of a Rosenblatt perceptron.  You can use this\n",
    "notebook to experiment with Rosenblatt perceptron learning.\n",
    "\n",
    "First, let's remind ourselves of what a Rosenblatt perceptron is:\n",
    "\n",
    "\n"
   ]
  }
 ],
 "metadata": {
  "kernelspec": {
   "display_name": "Python 2",
   "language": "python",
   "name": "python2"
  },
  "language_info": {
   "codemirror_mode": {
    "name": "ipython",
    "version": 2
   },
   "file_extension": ".py",
   "mimetype": "text/x-python",
   "name": "python",
   "nbconvert_exporter": "python",
   "pygments_lexer": "ipython2",
   "version": "2.7.11"
  }
 },
 "nbformat": 4,
 "nbformat_minor": 0
}
